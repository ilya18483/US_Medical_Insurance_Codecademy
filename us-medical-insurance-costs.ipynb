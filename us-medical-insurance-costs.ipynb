{
 "cells": [
  {
   "cell_type": "markdown",
   "metadata": {},
   "source": [
    "# U.S. Medical Insurance Costs"
   ]
  },
  {
   "cell_type": "markdown",
   "metadata": {},
   "source": [
    "## Module Imports"
   ]
  },
  {
   "cell_type": "code",
   "execution_count": 1,
   "metadata": {},
   "outputs": [],
   "source": [
    "import csv\n",
    "import json\n",
    "from pprint import pprint\n",
    "from decimal import Decimal\n",
    "from matplotlib import pyplot as plt"
   ]
  },
  {
   "cell_type": "markdown",
   "metadata": {},
   "source": [
    "## Data Import"
   ]
  },
  {
   "cell_type": "code",
   "execution_count": 2,
   "metadata": {},
   "outputs": [
    {
     "name": "stdout",
     "output_type": "stream",
     "text": [
      "There are 1338 records in the dataset.\n",
      "The first 5 records: [{'Age': 19, 'Sex': 'female', 'BMI': 27.9, 'Children': 0, 'Smoker': 'yes', 'Region': 'southwest', 'Cost': 16884.924}, {'Age': 18, 'Sex': 'male', 'BMI': 33.77, 'Children': 1, 'Smoker': 'no', 'Region': 'southeast', 'Cost': 1725.5523}, {'Age': 28, 'Sex': 'male', 'BMI': 33.0, 'Children': 3, 'Smoker': 'no', 'Region': 'southeast', 'Cost': 4449.462}, {'Age': 33, 'Sex': 'male', 'BMI': 22.705, 'Children': 0, 'Smoker': 'no', 'Region': 'northwest', 'Cost': 21984.47061}, {'Age': 32, 'Sex': 'male', 'BMI': 28.88, 'Children': 0, 'Smoker': 'no', 'Region': 'northwest', 'Cost': 3866.8552}]\n"
     ]
    }
   ],
   "source": [
    "insurance_data = []\n",
    "with open(\"insurance.csv\") as insurance_file:\n",
    "    insurance_data_dict = csv.DictReader(insurance_file)\n",
    "    for row in insurance_data_dict:\n",
    "        insurance_data.append({\n",
    "            \"Age\":int(row[\"age\"]),\n",
    "            \"Sex\":row[\"sex\"],\n",
    "            \"BMI\":float(row[\"bmi\"]),\n",
    "            \"Children\":int(row[\"children\"]),\n",
    "            \"Smoker\":row[\"smoker\"],\n",
    "            \"Region\":row[\"region\"],\n",
    "            \"Cost\":float(row[\"charges\"])})\n",
    "num_of_records_show = 5\n",
    "\n",
    "print(\"There are {} records in the dataset.\".format(len(insurance_data)))\n",
    "print('The first {} records: {}'.format(num_of_records_show, insurance_data[:num_of_records_show]))"
   ]
  },
  {
   "cell_type": "markdown",
   "metadata": {},
   "source": [
    "## Function Definitions"
   ]
  },
  {
   "cell_type": "code",
   "execution_count": 3,
   "metadata": {},
   "outputs": [],
   "source": [
    "def organise_by_group(data, group_by, groups):\n",
    "    if type(groups) == tuple and len(groups) == 2:\n",
    "        data_by_group = {}\n",
    "        grouping1, grouping2 = groups\n",
    "        group1 = []\n",
    "        group2 = []\n",
    "        for person in data:\n",
    "            if person[group_by] == grouping1:\n",
    "                group1.append(person)\n",
    "            elif person[group_by] == grouping2:\n",
    "                group2.append(person)\n",
    "        data_by_group[grouping1] = group1\n",
    "        data_by_group[grouping2] = group2\n",
    "        return data_by_group\n",
    "    else:\n",
    "        print(\"Please enter 2 groups as a tuple\")"
   ]
  },
  {
   "cell_type": "code",
   "execution_count": 4,
   "metadata": {},
   "outputs": [],
   "source": [
    "def calculate_mean(data, measure, rounding = 2):\n",
    "    total = 0\n",
    "    data_points = 0\n",
    "    for point in data:\n",
    "        total += point[measure]\n",
    "        data_points += 1\n",
    "    mean_measure = total / data_points\n",
    "    return round(mean_measure, rounding)"
   ]
  },
  {
   "cell_type": "code",
   "execution_count": 5,
   "metadata": {},
   "outputs": [],
   "source": [
    "def get_unique(data, unique_area):\n",
    "    unique_data = []\n",
    "    for patient in data:\n",
    "        if patient[unique_area] in unique_data:\n",
    "            continue\n",
    "        else:\n",
    "            unique_data.append(patient[unique_area])\n",
    "    return unique_data"
   ]
  },
  {
   "cell_type": "code",
   "execution_count": 6,
   "metadata": {},
   "outputs": [],
   "source": [
    "def organise_by_area(data):\n",
    "    areas = get_unique(data, \"Region\")\n",
    "    data_by_area = {}\n",
    "    for area in areas:\n",
    "        area_patients = []\n",
    "        for i in range(len(data)):\n",
    "            if data[i][\"Region\"] == area:\n",
    "                area_patients.append(data[i])\n",
    "        data_by_area[area] = area_patients\n",
    "    return data_by_area"
   ]
  },
  {
   "cell_type": "code",
   "execution_count": 7,
   "metadata": {},
   "outputs": [],
   "source": [
    "def data_counter(data, counting, condition):\n",
    "    counter = 0\n",
    "    for i in range(len(data)):\n",
    "        if data[i][counting] == condition:\n",
    "            counter += 1\n",
    "        else:\n",
    "            continue\n",
    "    return counter"
   ]
  },
  {
   "cell_type": "code",
   "execution_count": 8,
   "metadata": {},
   "outputs": [],
   "source": [
    "def find_max(data, measure):\n",
    "    max_measure = float(\"-inf\")\n",
    "    for patient in data:\n",
    "        if measure in patient.keys():\n",
    "            if patient[measure] > max_measure:\n",
    "                max_measure = patient[measure]\n",
    "        else:\n",
    "            print(\"The {} was not found.\".format(measure))\n",
    "            break\n",
    "    return max_measure"
   ]
  },
  {
   "cell_type": "code",
   "execution_count": 9,
   "metadata": {},
   "outputs": [],
   "source": [
    "def find_min(data, measure):\n",
    "    min_measure = float(\"inf\")\n",
    "    for patient in data:\n",
    "        if measure in patient.keys():\n",
    "            if patient[measure] < min_measure:\n",
    "                min_measure = patient[measure]\n",
    "        else:\n",
    "            print(\"The {} was not found.\".format(measure))\n",
    "            break\n",
    "    return min_measure"
   ]
  },
  {
   "cell_type": "markdown",
   "metadata": {},
   "source": [
    "Calculating the predicted insurance cost using: insurance cost = 250 * age - 128 * sex (1 for male, 0 for female + 370 * bmi + 425 * num_of_children + 24000 * smoker (1 for smoker, 0 for non-smoker) - 12500"
   ]
  },
  {
   "cell_type": "code",
   "execution_count": 10,
   "metadata": {},
   "outputs": [
    {
     "name": "stdout",
     "output_type": "stream",
     "text": [
      "[{'Age': 19,\n",
      "  'BMI': 27.9,\n",
      "  'Children': 0,\n",
      "  'Cost': 16884.924,\n",
      "  'Predicted Cost': 37823.0,\n",
      "  'Region': 'southwest',\n",
      "  'Sex': 'female',\n",
      "  'Smoker': 'yes'},\n",
      " {'Age': 18,\n",
      "  'BMI': 33.77,\n",
      "  'Children': 1,\n",
      "  'Cost': 1725.5523,\n",
      "  'Predicted Cost': 16041.9,\n",
      "  'Region': 'southeast',\n",
      "  'Sex': 'male',\n",
      "  'Smoker': 'no'},\n",
      " {'Age': 28,\n",
      "  'BMI': 33.0,\n",
      "  'Children': 3,\n",
      "  'Cost': 4449.462,\n",
      "  'Predicted Cost': 19107.0,\n",
      "  'Region': 'southeast',\n",
      "  'Sex': 'male',\n",
      "  'Smoker': 'no'}]\n"
     ]
    }
   ],
   "source": [
    "def insurance_prediction(patient):\n",
    "    age = int(patient[\"Age\"])\n",
    "    bmi = float(patient[\"BMI\"])\n",
    "    children = int(patient[\"Children\"])\n",
    "    if patient[\"Sex\"] == \"male\":\n",
    "        sex = 1\n",
    "    else:\n",
    "        sex = 0\n",
    "    if patient[\"Smoker\"] == \"yes\":\n",
    "        smoker = 1\n",
    "    else:\n",
    "        smoker = 0\n",
    "    \n",
    "    insurance_cost = 250 * age - 128 * sex + 370 * bmi + 425 * children + 24000 * smoker - 1250\n",
    "    return round(insurance_cost, 2)\n",
    "        \n",
    "for person in insurance_data:\n",
    "    person[\"Predicted Cost\"] = insurance_prediction(person)\n",
    "pprint(insurance_data[:3])"
   ]
  },
  {
   "cell_type": "code",
   "execution_count": 11,
   "metadata": {},
   "outputs": [],
   "source": [
    "def plot_scatter(dataset, x_axis, y_axis, region_list = get_unique(insurance_data, \"Region\")):\n",
    "    x_axis_data = []\n",
    "    y_axis_data = []\n",
    "    for person in dataset:\n",
    "        if person[\"Region\"] in region_list:\n",
    "            x_axis_data.append(person[x_axis])\n",
    "            y_axis_data.append(person[y_axis])\n",
    "    print(len(x_axis_data), len(y_axis_data))\n",
    "    plt.scatter(x_axis_data, y_axis_data)    "
   ]
  },
  {
   "cell_type": "markdown",
   "metadata": {},
   "source": [
    "## Analysis"
   ]
  },
  {
   "cell_type": "code",
   "execution_count": 12,
   "metadata": {},
   "outputs": [],
   "source": [
    "data_by_sex = organise_by_group(insurance_data, \"Sex\", (\"male\",\"female\"))\n",
    "males = data_by_sex[\"male\"]\n",
    "females = data_by_sex[\"female\"]\n",
    "\n",
    "data_by_smoking = organise_by_group(insurance_data, \"Smoker\", (\"yes\", \"no\"))\n",
    "\n",
    "data_by_area = organise_by_area(insurance_data)"
   ]
  },
  {
   "cell_type": "code",
   "execution_count": 13,
   "metadata": {},
   "outputs": [
    {
     "name": "stdout",
     "output_type": "stream",
     "text": [
      "The minimum age in the dataset was 18. The maximum age in the dataset was 64.\n",
      "The minimum bmi in the dataset was 15.96. The maximum bmi in the dataset was 53.13.\n",
      "The minimum children in the dataset was 0. The maximum children in the dataset was 5.\n",
      "The minimum cost in the dataset was 1121.8739. The maximum cost in the dataset was 63770.42801.\n"
     ]
    }
   ],
   "source": [
    "info = [\"Age\", \"BMI\", \"Children\", \"Cost\"]\n",
    "for measure in info:\n",
    "    minimum = find_min(insurance_data, measure)\n",
    "    maximum = find_max(insurance_data, measure)\n",
    "    print(\n",
    "        \"The minimum {measurement} in the dataset was {mini}. The maximum {measurement} in the dataset was {maxi}.\".format(\n",
    "            measurement = str(measure).lower(), mini = str(minimum).lower(), maxi = str(maximum).lower()))"
   ]
  },
  {
   "cell_type": "markdown",
   "metadata": {},
   "source": [
    "### Male vs Female comparisons"
   ]
  },
  {
   "cell_type": "code",
   "execution_count": 14,
   "metadata": {},
   "outputs": [
    {
     "name": "stdout",
     "output_type": "stream",
     "text": [
      "There are 676 males and 662 females in the dataset.\n"
     ]
    }
   ],
   "source": [
    "male_count = len(males)\n",
    "female_count = len(females)\n",
    "print(\"There are {} males and {} females in the dataset.\".format(male_count, female_count))"
   ]
  },
  {
   "cell_type": "code",
   "execution_count": 15,
   "metadata": {},
   "outputs": [
    {
     "name": "stdout",
     "output_type": "stream",
     "text": [
      "The minimum age for males was: 18 and females: 18. The maximum age for males was: 64 and for females: 64.\n",
      "The minimum bmi for males was: 15.96 and females: 16.815. The maximum bmi for males was: 53.13 and for females: 48.07.\n",
      "The minimum children for males was: 0 and females: 0. The maximum children for males was: 5 and for females: 5.\n",
      "The minimum cost for males was: 1121.8739 and females: 1607.5101. The maximum cost for males was: 62592.87309 and for females: 63770.42801.\n"
     ]
    }
   ],
   "source": [
    "info = [\"Age\", \"BMI\", \"Children\", \"Cost\"]\n",
    "for measure in info:\n",
    "    mini_male = find_min(males, measure)\n",
    "    max_male = find_max(males, measure)\n",
    "    mini_female = find_min(females, measure)\n",
    "    max_female = find_max(females, measure)\n",
    "    print(\n",
    "    \"The minimum {measurement} for males was: {min_male} and females: {min_female}. The maximum {measurement} for males was: {max_male} and for females: {max_female}.\".format(\n",
    "    measurement = str(measure).lower(),\n",
    "    min_male = str(mini_male).lower(),\n",
    "    max_male = str(max_male).lower(),\n",
    "    min_female = str(mini_female).lower(),\n",
    "    max_female = str(max_female).lower()))"
   ]
  },
  {
   "cell_type": "markdown",
   "metadata": {},
   "source": [
    "### Means"
   ]
  },
  {
   "cell_type": "code",
   "execution_count": 16,
   "metadata": {},
   "outputs": [],
   "source": [
    "means_data = {\n",
    "    \"Age\":{\"Overall\":None, \"Sex\":{}, \"Area\":{}, \"Smoking Status\":{}},\n",
    "    \"BMI\":{\"Overall\":None, \"Sex\":{}, \"Area\":{}, \"Smoking Status\":{}},\n",
    "    \"Children\":{\"Overall\":None, \"Sex\":{}, \"Area\":{}, \"Smoking Status\":{}},\n",
    "    \"Cost\":{\"Overall\":None, \"Sex\":{}, \"Area\":{}, \"Smoking Status\":{}}\n",
    "}"
   ]
  },
  {
   "cell_type": "markdown",
   "metadata": {},
   "source": [
    "#### Age"
   ]
  },
  {
   "cell_type": "code",
   "execution_count": 17,
   "metadata": {},
   "outputs": [],
   "source": [
    "mean_age = calculate_mean(insurance_data, \"Age\")\n",
    "means_data[\"Age\"][\"Overall\"] = mean_age"
   ]
  },
  {
   "cell_type": "code",
   "execution_count": 18,
   "metadata": {},
   "outputs": [
    {
     "name": "stdout",
     "output_type": "stream",
     "text": [
      "The mean age of patients in the dataset: 39.21 years old.\n",
      "The mean age of males in the dataset: 38.92 years old.\n",
      "The mean age of females im the dataset: 39.5 years old.\n",
      "The diffrence between male and female mean ages is -0.6 years old.\n"
     ]
    }
   ],
   "source": [
    "mean_male_age = calculate_mean(males, \"Age\")\n",
    "mean_female_age = calculate_mean(females, \"Age\")\n",
    "age_difference = round(mean_male_age - mean_female_age, 1)\n",
    "print(\"\"\"\\\n",
    "The mean age of patients in the dataset: {mean_age} years old.\n",
    "The mean age of males in the dataset: {male_age} years old.\n",
    "The mean age of females im the dataset: {female_age} years old.\n",
    "The diffrence between male and female mean ages is {difference} years old.\\\n",
    "\"\"\".format(mean_age = mean_age, male_age = mean_male_age, female_age = mean_female_age, difference = age_difference))\n",
    "\n",
    "means_data[\"Age\"][\"Sex\"][\"Male\"] = mean_male_age\n",
    "means_data[\"Age\"][\"Sex\"][\"Female\"] = mean_female_age"
   ]
  },
  {
   "cell_type": "code",
   "execution_count": 19,
   "metadata": {},
   "outputs": [],
   "source": [
    "for area in get_unique(insurance_data, \"Region\"):\n",
    "    means_data[\"Age\"][\"Area\"][area] = calculate_mean(data_by_area[area], \"Age\")"
   ]
  },
  {
   "cell_type": "code",
   "execution_count": 20,
   "metadata": {},
   "outputs": [],
   "source": [
    "for status in get_unique(insurance_data, \"Smoker\"):\n",
    "    means_data[\"Age\"][\"Smoking Status\"][status] = calculate_mean(data_by_smoking[status], \"Age\")"
   ]
  },
  {
   "cell_type": "markdown",
   "metadata": {},
   "source": [
    "### BMI"
   ]
  },
  {
   "cell_type": "code",
   "execution_count": 21,
   "metadata": {},
   "outputs": [],
   "source": [
    "mean_bmi = calculate_mean(insurance_data, \"BMI\")\n",
    "means_data[\"BMI\"][\"Overall\"] = mean_bmi"
   ]
  },
  {
   "cell_type": "code",
   "execution_count": 22,
   "metadata": {},
   "outputs": [
    {
     "name": "stdout",
     "output_type": "stream",
     "text": [
      "The mean BMI of patients in the dataset: 30.66 Kg/m2\n"
     ]
    }
   ],
   "source": [
    "mean_male_bmi = calculate_mean(males, \"BMI\")\n",
    "mean_female_bmi = calculate_mean(females, \"BMI\")\n",
    "print(\"The mean BMI of patients in the dataset: {bmi} Kg/m2\".format(bmi = mean_bmi))\n",
    "means_data[\"BMI\"][\"Sex\"][\"Male\"] = mean_male_bmi\n",
    "means_data[\"BMI\"][\"Sex\"][\"Female\"] = mean_female_bmi"
   ]
  },
  {
   "cell_type": "code",
   "execution_count": 23,
   "metadata": {},
   "outputs": [],
   "source": [
    "for area in get_unique(insurance_data, \"Region\"):\n",
    "    means_data[\"BMI\"][\"Area\"][area] = calculate_mean(data_by_area[area], \"BMI\")"
   ]
  },
  {
   "cell_type": "code",
   "execution_count": 24,
   "metadata": {},
   "outputs": [],
   "source": [
    "for status in get_unique(insurance_data, \"Smoker\"):\n",
    "    means_data[\"BMI\"][\"Smoking Status\"][status] = calculate_mean(data_by_smoking[status], \"BMI\")"
   ]
  },
  {
   "cell_type": "markdown",
   "metadata": {},
   "source": [
    "### Children"
   ]
  },
  {
   "cell_type": "code",
   "execution_count": 25,
   "metadata": {},
   "outputs": [],
   "source": [
    "mean_children = calculate_mean(insurance_data, \"Children\", 0)\n",
    "means_data[\"Children\"][\"Overall\"] = int(mean_children)"
   ]
  },
  {
   "cell_type": "code",
   "execution_count": 26,
   "metadata": {},
   "outputs": [],
   "source": [
    "mean_male_children = calculate_mean(males, \"Children\", 0)\n",
    "mean_female_children = calculate_mean(females, \"Children\", 0)\n",
    "\n",
    "means_data[\"Children\"][\"Sex\"][\"Male\"] = int(mean_male_children)\n",
    "means_data[\"Children\"][\"Sex\"][\"Female\"] = int(mean_female_children)"
   ]
  },
  {
   "cell_type": "code",
   "execution_count": 27,
   "metadata": {},
   "outputs": [],
   "source": [
    "for area in get_unique(insurance_data, \"Region\"):\n",
    "    means_data[\"Children\"][\"Area\"][area] = int(calculate_mean(data_by_area[area], \"Children\"))"
   ]
  },
  {
   "cell_type": "code",
   "execution_count": 28,
   "metadata": {},
   "outputs": [],
   "source": [
    "for status in get_unique(insurance_data, \"Smoker\"):\n",
    "    means_data[\"Children\"][\"Smoking Status\"][status] = int(calculate_mean(data_by_smoking[status], \"Children\"))"
   ]
  },
  {
   "cell_type": "markdown",
   "metadata": {},
   "source": [
    "### Insurance Cost"
   ]
  },
  {
   "cell_type": "code",
   "execution_count": 29,
   "metadata": {},
   "outputs": [],
   "source": [
    "mean_cost = calculate_mean(insurance_data, \"Cost\", 2)\n",
    "means_data[\"Cost\"][\"Overall\"] = mean_cost"
   ]
  },
  {
   "cell_type": "code",
   "execution_count": 30,
   "metadata": {},
   "outputs": [
    {
     "name": "stdout",
     "output_type": "stream",
     "text": [
      "On average, males paid $1387.17 dollars more than females\n"
     ]
    }
   ],
   "source": [
    "mean_male_cost = calculate_mean(males, \"Cost\", 2)\n",
    "mean_female_cost = calculate_mean(females, \"Cost\", 2)\n",
    "\n",
    "if mean_male_cost == mean_female_cost:\n",
    "    print(\"On average, males and females pay the same amount for medical insurance\")\n",
    "elif mean_male_cost > mean_female_cost:\n",
    "    cost_difference = mean_male_cost - mean_female_cost\n",
    "    print(\"On average, males paid ${difference} dollars more than females\".format(difference = cost_difference))\n",
    "elif mean_male_cost < mean_female_cost:\n",
    "    cost_difference = mean_female_cost - mean_male_cost\n",
    "    print(\"On average, males paid ${difference} dollars less than females\".format(difference = cost_diffrence))\n",
    "    \n",
    "means_data[\"Cost\"][\"Sex\"][\"Male\"] = mean_male_cost\n",
    "means_data[\"Cost\"][\"Sex\"][\"Female\"] = mean_female_cost"
   ]
  },
  {
   "cell_type": "code",
   "execution_count": 31,
   "metadata": {},
   "outputs": [],
   "source": [
    "for area in get_unique(insurance_data, \"Region\"):\n",
    "    means_data[\"Cost\"][\"Area\"][area] = calculate_mean(data_by_area[area], \"Cost\")"
   ]
  },
  {
   "cell_type": "code",
   "execution_count": 32,
   "metadata": {},
   "outputs": [],
   "source": [
    "for status in get_unique(insurance_data, \"Smoker\"):\n",
    "    means_data[\"Cost\"][\"Smoking Status\"][status] = calculate_mean(data_by_smoking[status], \"Cost\")"
   ]
  },
  {
   "cell_type": "markdown",
   "metadata": {},
   "source": [
    "### Graphs"
   ]
  },
  {
   "cell_type": "code",
   "execution_count": 33,
   "metadata": {},
   "outputs": [
    {
     "name": "stdout",
     "output_type": "stream",
     "text": [
      "1338 1338\n"
     ]
    },
    {
     "data": {
      "image/png": "[encoded data removed]",
      "text/plain": [
       "<Figure size 432x288 with 1 Axes>"
      ]
     },
     "metadata": {
      "needs_background": "light"
     },
     "output_type": "display_data"
    }
   ],
   "source": [
    "%matplotlib inline\n",
    "plot_scatter(insurance_data, \"BMI\", \"Predicted Cost\")"
   ]
  },
  {
   "cell_type": "code",
   "execution_count": 34,
   "metadata": {},
   "outputs": [
    {
     "name": "stdout",
     "output_type": "stream",
     "text": [
      "274 274\n"
     ]
    },
    {
     "data": {
      "image/png": "[encoded data removed]",
      "text/plain": [
       "<Figure size 432x288 with 1 Axes>"
      ]
     },
     "metadata": {
      "needs_background": "light"
     },
     "output_type": "display_data"
    }
   ],
   "source": [
    "plot_scatter(data_by_smoking[\"yes\"], \"BMI\", \"Predicted Cost\")"
   ]
  },
  {
   "cell_type": "markdown",
   "metadata": {},
   "source": [
    "### Export"
   ]
  },
  {
   "cell_type": "code",
   "execution_count": 35,
   "metadata": {},
   "outputs": [
    {
     "name": "stdout",
     "output_type": "stream",
     "text": [
      "{'Age': {'Area': {'northeast': 39.27,\n",
      "                  'northwest': 39.2,\n",
      "                  'southeast': 38.94,\n",
      "                  'southwest': 39.46},\n",
      "         'Overall': 39.21,\n",
      "         'Sex': {'Female': 39.5, 'Male': 38.92},\n",
      "         'Smoking Status': {'no': 39.39, 'yes': 38.51}},\n",
      " 'BMI': {'Area': {'northeast': 29.17,\n",
      "                  'northwest': 29.2,\n",
      "                  'southeast': 33.36,\n",
      "                  'southwest': 30.6},\n",
      "         'Overall': 30.66,\n",
      "         'Sex': {'Female': 30.38, 'Male': 30.94},\n",
      "         'Smoking Status': {'no': 30.65, 'yes': 30.71}},\n",
      " 'Children': {'Area': {'northeast': 1,\n",
      "                       'northwest': 1,\n",
      "                       'southeast': 1,\n",
      "                       'southwest': 1},\n",
      "              'Overall': 1,\n",
      "              'Sex': {'Female': 1, 'Male': 1},\n",
      "              'Smoking Status': {'no': 1, 'yes': 1}},\n",
      " 'Cost': {'Area': {'northeast': 13406.38,\n",
      "                   'northwest': 12417.58,\n",
      "                   'southeast': 14735.41,\n",
      "                   'southwest': 12346.94},\n",
      "          'Overall': 13270.42,\n",
      "          'Sex': {'Female': 12569.58, 'Male': 13956.75},\n",
      "          'Smoking Status': {'no': 8434.27, 'yes': 32050.23}}}\n"
     ]
    }
   ],
   "source": [
    "pprint(means_data)"
   ]
  },
  {
   "cell_type": "code",
   "execution_count": 36,
   "metadata": {},
   "outputs": [],
   "source": [
    "with open(\"means.json\", \"w\") as means_files:\n",
    "    json.dump(means_data, means_files)"
   ]
  },
  {
   "cell_type": "markdown",
   "metadata": {},
   "source": [
    "## Reports"
   ]
  },
  {
   "cell_type": "code",
   "execution_count": 37,
   "metadata": {},
   "outputs": [
    {
     "name": "stdout",
     "output_type": "stream",
     "text": [
      "The overall mean age of the patients in the dataset was: 39.21 years old. The males and females in the dataset were 38.92 and 39.5 years old, respectively. The smokers and non-smokers in the dataset were 38.51 and 39.39 years old, respectively. The mean ages by area were as follows: 39.46 in Southwest, 38.94 in Southeast, 39.27 in Northwest, and 39.2 in Northeast.\n"
     ]
    }
   ],
   "source": [
    "mean_ages = means_data[\"Age\"]\n",
    "print('''\\\n",
    "The overall mean age of the patients in the dataset was: {overall} years old. The males and females in the dataset \\\n",
    "were {male} and {female} years old, respectively. The smokers and non-smokers in the dataset were {smoker} \\\n",
    "and {nonsmoker} years old, respectively. The mean ages by area were as follows: {sw} in Southwest, {se} in \\\n",
    "Southeast, {nw} in Northwest, and {ne} in Northeast.\\\n",
    "'''.format(\n",
    "    overall = mean_ages[\"Overall\"],\n",
    "    male = mean_ages[\"Sex\"][\"Male\"],\n",
    "    female = mean_ages[\"Sex\"][\"Female\"],\n",
    "    smoker = mean_ages[\"Smoking Status\"][\"yes\"],\n",
    "    nonsmoker = mean_ages[\"Smoking Status\"][\"no\"],\n",
    "    sw = mean_ages[\"Area\"][\"southwest\"],\n",
    "    se = mean_ages[\"Area\"][\"southeast\"],\n",
    "    ne = mean_ages[\"Area\"][\"northwest\"],\n",
    "    nw = mean_ages[\"Area\"][\"northeast\"]\n",
    "))"
   ]
  },
  {
   "cell_type": "code",
   "execution_count": 38,
   "metadata": {},
   "outputs": [
    {
     "name": "stdout",
     "output_type": "stream",
     "text": [
      "The overall mean BMI of the patients in the dataset was: 30.66 kg/m2. The males and females had BMIs of 30.94 and 30.38 kg/m2, respectively. The smokers and non-smokers had BMIs of 30.71 and 30.65 kg/m2, respectively. The mean BMIs by area were: 30.6 in Southwest, 33.36 in Southeast, 29.17 in Northwest, and 29.2 in Northeast.\n"
     ]
    }
   ],
   "source": [
    "mean_bmis = means_data[\"BMI\"]\n",
    "print('''\\\n",
    "The overall mean BMI of the patients in the dataset was: {overall} kg/m2. The males and females had BMIs of {male} and {female} \\\n",
    "kg/m2, respectively. The smokers and non-smokers had BMIs of {smoker} and {nonsmoker} kg/m2, respectively. The mean BMIs by \\\n",
    "area were: {sw} in Southwest, {se} in Southeast, {nw} in Northwest, and {ne} in Northeast.\\\n",
    "'''.format(\n",
    "    overall = mean_bmis[\"Overall\"],\n",
    "    male = mean_bmis[\"Sex\"][\"Male\"],\n",
    "    female = mean_bmis[\"Sex\"][\"Female\"],\n",
    "    smoker = mean_bmis[\"Smoking Status\"][\"yes\"],\n",
    "    nonsmoker = mean_bmis[\"Smoking Status\"][\"no\"],\n",
    "    sw = mean_bmis[\"Area\"][\"southwest\"],\n",
    "    se = mean_bmis[\"Area\"][\"southeast\"],\n",
    "    ne = mean_bmis[\"Area\"][\"northwest\"],\n",
    "    nw = mean_bmis[\"Area\"][\"northeast\"]))\n"
   ]
  },
  {
   "cell_type": "code",
   "execution_count": 39,
   "metadata": {},
   "outputs": [
    {
     "name": "stdout",
     "output_type": "stream",
     "text": [
      "The overall mean number of children that the patients in the dataset had was: 1. The males and females had 1 and 1 kid(s), respectively. The smokers and non-smokers had 1 and 1 kid(s), respectively. The mean number of kids by area were: 1 in Southwest, 1 in Southeast, 1 in Northwest, and 1 in Northeast.\n"
     ]
    }
   ],
   "source": [
    "mean_children = means_data[\"Children\"]\n",
    "print('''\\\n",
    "The overall mean number of children that the patients in the dataset had was: {overall}. The males and females had {male} \\\n",
    "and {female} kid(s), respectively. The smokers and non-smokers had {smoker} and {nonsmoker} kid(s), respectively. \\\n",
    "The mean number of kids by area were: {sw} in Southwest, {se} in Southeast, {nw} in Northwest, and {ne} in Northeast.\\\n",
    "'''.format(\n",
    "    overall = mean_children[\"Overall\"],\n",
    "    male = mean_children[\"Sex\"][\"Male\"],\n",
    "    female = mean_children[\"Sex\"][\"Female\"],\n",
    "    smoker = mean_children[\"Smoking Status\"][\"yes\"],\n",
    "    nonsmoker = mean_children[\"Smoking Status\"][\"no\"],\n",
    "    sw = mean_children[\"Area\"][\"southwest\"],\n",
    "    se = mean_children[\"Area\"][\"southeast\"],\n",
    "    ne = mean_children[\"Area\"][\"northwest\"],\n",
    "    nw = mean_children[\"Area\"][\"northeast\"]))"
   ]
  },
  {
   "cell_type": "code",
   "execution_count": 40,
   "metadata": {},
   "outputs": [
    {
     "name": "stdout",
     "output_type": "stream",
     "text": [
      "The overall mean insurance cost in the dataset was $13270.42. The males and females paid $13956.75 and $12569.58, respectively. The smokers and non-smokers paid, on average, $32050.23 and $8434.27, respectively. The mean insurance costs by area were: $12346.94 in Southwest, $14735.41 in Southeast, $13406.38 in Northwest, and $12417.58 in Northeast.\n"
     ]
    }
   ],
   "source": [
    "mean_costs = means_data[\"Cost\"]\n",
    "print('''\\\n",
    "The overall mean insurance cost in the dataset was ${overall}. The males and females paid ${male} and ${female}, respectively. \\\n",
    "The smokers and non-smokers paid, on average, ${smoker} and ${nonsmoker}, respectively. The mean insurance costs by area were: \\\n",
    "${sw} in Southwest, ${se} in Southeast, ${nw} in Northwest, and ${ne} in Northeast.\\\n",
    "'''.format(\n",
    "    overall = mean_costs[\"Overall\"],\n",
    "    male = mean_costs[\"Sex\"][\"Male\"],\n",
    "    female = mean_costs[\"Sex\"][\"Female\"],\n",
    "    smoker = mean_costs[\"Smoking Status\"][\"yes\"],\n",
    "    nonsmoker = mean_costs[\"Smoking Status\"][\"no\"],\n",
    "    sw = mean_costs[\"Area\"][\"southwest\"],\n",
    "    se = mean_costs[\"Area\"][\"southeast\"],\n",
    "    ne = mean_costs[\"Area\"][\"northwest\"],\n",
    "    nw = mean_costs[\"Area\"][\"northeast\"]))"
   ]
  },
  {
   "cell_type": "code",
   "execution_count": null,
   "metadata": {},
   "outputs": [],
   "source": []
  }
 ],
 "metadata": {
  "kernelspec": {
   "display_name": "Python 3",
   "language": "python",
   "name": "python3"
  },
  "language_info": {
   "codemirror_mode": {
    "name": "ipython",
    "version": 3
   },
   "file_extension": ".py",
   "mimetype": "text/x-python",
   "name": "python",
   "nbconvert_exporter": "python",
   "pygments_lexer": "ipython3",
   "version": "3.7.6"
  }
 },
 "nbformat": 4,
 "nbformat_minor": 4
}
